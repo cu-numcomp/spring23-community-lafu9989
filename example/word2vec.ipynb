{
 "cells": [
  {
   "cell_type": "code",
   "execution_count": 1,
   "id": "2fe5edfc",
   "metadata": {},
   "outputs": [
    {
     "name": "stdout",
     "output_type": "stream",
     "text": [
      "Running command: word2phrase -train data/text8 -output data/text8-phrases -min-count 5 -threshold 100 -debug 2\n",
      "Starting training using file data/text8\n",
      "Words processed: 17000K     Vocab size: 4399K  \n",
      "Vocab size (unigrams + bigrams): 2419827\n",
      "Words in train file: 17005206\n",
      "Words written: 17000K\r"
     ]
    }
   ],
   "source": [
    "import word2vec \n",
    "word2vec.word2phrase('data/text8', 'data/text8-phrases', verbose=True)"
   ]
  },
  {
   "cell_type": "code",
   "execution_count": 2,
   "id": "dc75c457",
   "metadata": {},
   "outputs": [
    {
     "name": "stdout",
     "output_type": "stream",
     "text": [
      "Running command: word2vec -train data/text8 -output data/text8.bin -size 100 -window 5 -sample 1e-3 -hs 0 -negative 5 -threads 12 -iter 5 -min-count 5 -alpha 0.025 -debug 2 -binary 1 -cbow 1\n",
      "Starting training using file data/text8\n",
      "Vocab size: 71291\n",
      "Words in train file: 16718843\n",
      "Alpha: 0.000002  Progress: 100.04%  Words/thread/sec: 415.57k  Progress: 0.37%  Words/thread/sec: 337.72k  ess: 0.57%  Words/thread/sec: 376.38k  77%  Words/thread/sec: 370.42k  7%  Words/thread/sec: 377.30k  .64k  hread/sec: 388.49k  rogress: 1.29%  Words/thread/sec: 384.30k  sec: 399.64k  .024502  Progress: 2.00%  Words/thread/sec: 392.46k  %  Words/thread/sec: 400.89k  1.11k    Progress: 3.86%  Words/thread/sec: 403.51k  ds/thread/sec: 404.53k  ds/thread/sec: 406.90k   ress: 5.72%  Words/thread/sec: 406.39k  c: 406.52k   0.023294  Progress: 6.84%  Words/thread/sec: 406.73k  ad/sec: 407.46k  7.57%  Words/thread/sec: 407.14k  Words/thread/sec: 407.24k  ad/sec: 407.54k  Progress: 8.87%  Words/thread/sec: 407.86k  c: 407.74k  /sec: 408.79k  022420  Progress: 10.33%  Words/thread/sec: 408.29k  read/sec: 409.23k  2242  Progress: 11.04%  Words/thread/sec: 408.33k  pha: 0.022192  Progress: 11.25%  Words/thread/sec: 408.92k  sec: 409.46k  ss: 12.25%  Words/thread/sec: 409.50k   ords/thread/sec: 409.61k  1484  Progress: 14.08%  Words/thread/sec: 409.51k  4k  .98k  Words/thread/sec: 408.77k  4k  29  Progress: 15.50%  Words/thread/sec: 409.87k  : 409.88k  ds/thread/sec: 409.65k  %  Words/thread/sec: 410.20k  410.28k  d/sec: 409.84k    Progress: 17.78%  Words/thread/sec: 410.70k  .020439  Progress: 18.26%  Words/thread/sec: 409.91k   0.020298  Progress: 18.82%  Words/thread/sec: 409.99k  thread/sec: 409.88k  9.84%  Words/thread/sec: 410.43k  2k  .71k  ss: 21.19%  Words/thread/sec: 411.25k  2%  Words/thread/sec: 411.11k  rogress: 21.46%  Words/thread/sec: 411.21k  Progress: 21.96%  Words/thread/sec: 411.39k  lpha: 0.019242  Progress: 23.04%  Words/thread/sec: 411.50k   Progress: 23.54%  Words/thread/sec: 411.13k  11.42k  : 24.30%  Words/thread/sec: 411.99k  ess: 24.53%  Words/thread/sec: 411.57k  /sec: 411.30k  848  Progress: 24.62%  Words/thread/sec: 411.79k  24.84%  Words/thread/sec: 411.80k   ogress: 25.92%  Words/thread/sec: 411.09k  22k  %  Words/thread/sec: 410.76k   0.018066  Progress: 27.75%  Words/thread/sec: 410.60k    : 411.13k  Words/thread/sec: 410.56k  ead/sec: 410.53k   Progress: 28.96%  Words/thread/sec: 410.37k    Words/thread/sec: 410.59k  rds/thread/sec: 410.71k  358  Progress: 30.58%  Words/thread/sec: 410.62k  0.017282  Progress: 30.88%  Words/thread/sec: 410.63k  ec: 411.31k  s: 31.79%  Words/thread/sec: 410.93k  rds/thread/sec: 411.03k  601  Progress: 33.61%  Words/thread/sec: 410.99k  6454  Progress: 34.20%  Words/thread/sec: 410.80k  thread/sec: 410.98k    Words/thread/sec: 411.36k  read/sec: 410.69k  rds/thread/sec: 411.32k  %  Words/thread/sec: 411.23k  sec: 410.89k  hread/sec: 411.04k   k  sec: 410.90k  485  Progress: 38.07%  Words/thread/sec: 411.06k  d/sec: 410.76k   0.015229  Progress: 39.10%  Words/thread/sec: 410.55k  1  Progress: 39.69%  Words/thread/sec: 410.93k  gress: 40.17%  Words/thread/sec: 411.00k  .80%  Words/thread/sec: 410.63k  701  Progress: 41.21%  Words/thread/sec: 410.94k  c: 410.51k  : 42.42%  Words/thread/sec: 410.35k  ds/thread/sec: 409.25k  42  Progress: 44.24%  Words/thread/sec: 408.90k  : 0.013891  Progress: 44.45%  Words/thread/sec: 408.61k  3k    Words/thread/sec: 408.84k  .013536  Progress: 45.87%  Words/thread/sec: 408.93k  d/sec: 409.11k  ress: 47.08%  Words/thread/sec: 409.52k  k  c: 409.31k  : 48.50%  Words/thread/sec: 409.47k  ds/thread/sec: 410.06k  23  Progress: 50.32%  Words/thread/sec: 410.17k  k  : 410.09k  thread/sec: 410.04k  73  Progress: 51.32%  Words/thread/sec: 410.23k  .012017  Progress: 51.94%  Words/thread/sec: 410.28k  rds/thread/sec: 410.19k  read/sec: 410.11k  sec: 409.95k  %  Words/thread/sec: 410.27k  s: 54.58%  Words/thread/sec: 410.07k  : 55.14%  Words/thread/sec: 409.84k  093  Progress: 55.64%  Words/thread/sec: 410.09k  18%  Words/thread/sec: 410.30k    Words/thread/sec: 410.42k  0643  Progress: 57.44%  Words/thread/sec: 410.33k   Progress: 57.81%  Words/thread/sec: 410.66k  : 0.010538  Progress: 57.86%  Words/thread/sec: 410.30k  lpha: 0.010416  Progress: 58.35%  Words/thread/sec: 410.45k  0.91k  0%  Words/thread/sec: 410.59k  k  Words/thread/sec: 411.01k  9769  Progress: 60.96%  Words/thread/sec: 411.19k  009676  Progress: 61.31%  Words/thread/sec: 411.07k  ha: 0.009667  Progress: 61.34%  Words/thread/sec: 411.16k  11.03k  61.88%  Words/thread/sec: 410.95k  009365  Progress: 62.55%  Words/thread/sec: 411.38k  /sec: 411.38k  ess: 63.77%  Words/thread/sec: 411.65k   : 411.59k   65.19%  Words/thread/sec: 411.63k  lpha: 0.008553  Progress: 65.80%  Words/thread/sec: 411.75k  s/thread/sec: 411.98k  9  Progress: 67.02%  Words/thread/sec: 412.06k  sec: 412.36k  read/sec: 412.39k  rogress: 68.43%  Words/thread/sec: 412.42k  .44k  4%  Words/thread/sec: 412.68k   0.007439  Progress: 70.26%  Words/thread/sec: 412.71k  ead/sec: 412.80k  thread/sec: 412.62k   71.26%  Words/thread/sec: 412.69k  lpha: 0.007035  Progress: 71.87%  Words/thread/sec: 412.80k  .46%  Words/thread/sec: 412.92k  2  Progress: 73.09%  Words/thread/sec: 413.11k   413.23k  3.20k  rogress: 74.50%  Words/thread/sec: 413.44k  ead/sec: 413.32k  Words/thread/sec: 413.28k  ead/sec: 413.44k  : 76.47%  Words/thread/sec: 413.33k  5742  Progress: 77.05%  Words/thread/sec: 413.63k    7.82%  Words/thread/sec: 413.75k  a: 0.005535  Progress: 77.87%  Words/thread/sec: 413.58k  sec: 413.64k  0.005426  Progress: 78.31%  Words/thread/sec: 413.59k  5258  Progress: 78.98%  Words/thread/sec: 413.76k  77k  %  Words/thread/sec: 413.86k  0.004783  Progress: 80.88%  Words/thread/sec: 414.03k    413.94k    rogress: 82.10%  Words/thread/sec: 414.17k  pha: 0.004392  Progress: 82.44%  Words/thread/sec: 414.31k  /sec: 414.34k  7k  ress: 83.83%  Words/thread/sec: 414.45k  0.003932  Progress: 84.29%  Words/thread/sec: 414.50k  14.23k   414.47k  : 414.51k  ogress: 85.36%  Words/thread/sec: 414.40k  ad/sec: 414.60k  0  Progress: 86.53%  Words/thread/sec: 414.67k    87.96%  Words/thread/sec: 414.78k  .002903  Progress: 88.40%  Words/thread/sec: 414.81k  02802  Progress: 88.81%  Words/thread/sec: 414.92k  gress: 89.60%  Words/thread/sec: 415.03k  9k    Words/thread/sec: 415.07k  .002148  Progress: 91.42%  Words/thread/sec: 415.06k  : 92.02%  Words/thread/sec: 415.06k  .43%  Words/thread/sec: 415.34k  a: 0.001743  Progress: 93.04%  Words/thread/sec: 415.31k  c: 415.31k    Words/thread/sec: 415.31k  ogress: 94.34%  Words/thread/sec: 415.55k  5.28k  01206  Progress: 95.19%  Words/thread/sec: 415.44k  gress: 95.67%  Words/thread/sec: 415.42k  77  Progress: 96.10%  Words/thread/sec: 415.61k  rogress: 96.61%  Words/thread/sec: 415.47k  k  ead/sec: 415.38k  98.53%  Words/thread/sec: 415.40k  00266  Progress: 98.95%  Words/thread/sec: 415.41k  sec: 415.42k  "
     ]
    }
   ],
   "source": [
    "word2vec.word2vec('data/text8', 'data/text8.bin', size=100, binary=True, verbose=True)"
   ]
  },
  {
   "cell_type": "code",
   "execution_count": 3,
   "id": "8f0a4ba8",
   "metadata": {},
   "outputs": [
    {
     "name": "stdout",
     "output_type": "stream",
     "text": [
      "Running command: word2vec -train data/text8 -output data/text8-clusters.txt -size 100 -window 5 -sample 1e-3 -hs 0 -negative 5 -threads 12 -iter 5 -min-count 5 -alpha 0.025 -debug 2 -binary 0 -cbow 1 -classes 100\n",
      "Starting training using file data/text8\n",
      "Vocab size: 71291\n",
      "Words in train file: 16718843\n",
      "Alpha: 0.000002  Progress: 100.03%  Words/thread/sec: 414.03k   360.37k  96k  sec: 380.47k  0.024712  Progress: 1.17%  Words/thread/sec: 386.32k  1  Progress: 1.37%  Words/thread/sec: 399.04k  ds/thread/sec: 402.05k   ress: 3.22%  Words/thread/sec: 405.55k   Words/thread/sec: 404.94k  0.024007  Progress: 3.99%  Words/thread/sec: 408.00k  k  ogress: 4.87%  Words/thread/sec: 405.87k  read/sec: 405.77k  ha: 0.023476  Progress: 6.11%  Words/thread/sec: 407.14k   6.72%  Words/thread/sec: 407.83k  s/thread/sec: 407.06k  22k  Progress: 8.17%  Words/thread/sec: 409.62k  2818  Progress: 8.74%  Words/thread/sec: 409.04k  8.82k  /thread/sec: 407.50k  ogress: 10.17%  Words/thread/sec: 408.24k  read/sec: 409.08k   Words/thread/sec: 408.73k  ad/sec: 408.17k  d/sec: 408.46k  d/sec: 408.38k  : 0.021641  Progress: 13.45%  Words/thread/sec: 409.49k   Words/thread/sec: 408.04k  021286  Progress: 14.87%  Words/thread/sec: 408.16k  /sec: 408.10k  ess: 16.08%  Words/thread/sec: 407.62k    0.020679  Progress: 17.30%  Words/thread/sec: 407.48k   17.50%  Words/thread/sec: 407.32k  lpha: 0.020474  Progress: 18.12%  Words/thread/sec: 407.57k  s/thread/sec: 407.60k  9  Progress: 19.34%  Words/thread/sec: 407.76k   408.01k  20.64%  Words/thread/sec: 408.79k  019742  Progress: 21.05%  Words/thread/sec: 408.14k   0.019596  Progress: 21.63%  Words/thread/sec: 408.65k  ad/sec: 408.73k   019188  Progress: 23.26%  Words/thread/sec: 408.92k  rogress: 23.77%  Words/thread/sec: 408.67k  ec: 409.59k  ad/sec: 408.62k  823  Progress: 24.72%  Words/thread/sec: 408.67k  ess: 25.34%  Words/thread/sec: 408.39k  a: 0.018529  Progress: 25.90%  Words/thread/sec: 408.34k  ad/sec: 408.60k    Progress: 26.99%  Words/thread/sec: 407.95k  rogress: 27.35%  Words/thread/sec: 408.07k  ad/sec: 408.37k  rds/thread/sec: 408.82k  sec: 408.03k  ds/thread/sec: 408.32k  ess: 29.70%  Words/thread/sec: 408.37k  79k  ad/sec: 409.52k  ords/thread/sec: 409.16k  7111  Progress: 31.57%  Words/thread/sec: 408.77k  ec: 408.74k  s: 32.78%  Words/thread/sec: 409.03k  3.98%  Words/thread/sec: 409.42k  4.20%  Words/thread/sec: 409.31k  ha: 0.016300  Progress: 34.81%  Words/thread/sec: 409.18k  thread/sec: 409.20k   Progress: 36.03%  Words/thread/sec: 409.44k  09.58k  .24%  Words/thread/sec: 409.44k  590  Progress: 37.65%  Words/thread/sec: 409.66k  c: 409.50k  : 38.87%  Words/thread/sec: 409.46k  ds/thread/sec: 410.09k   Words/thread/sec: 410.15k  a: 0.014755  Progress: 40.99%  Words/thread/sec: 410.66k  hread/sec: 410.51k  a: 0.014453  Progress: 42.20%  Words/thread/sec: 410.57k  42.70%  Words/thread/sec: 410.73k  .014191  Progress: 43.25%  Words/thread/sec: 410.76k  ec: 410.80k  ds/thread/sec: 410.71k  .37%  Words/thread/sec: 410.60k  ec: 410.88k  : 44.85%  Words/thread/sec: 410.67k   ad/sec: 411.18k  gress: 46.66%  Words/thread/sec: 411.08k  3k  ec: 411.86k  Words/thread/sec: 411.66k  s/thread/sec: 411.16k  2  Progress: 48.28%  Words/thread/sec: 411.43k   411.52k  49.49%  Words/thread/sec: 411.58k  pha: 0.012477  Progress: 50.10%  Words/thread/sec: 411.63k  ss: 50.69%  Words/thread/sec: 411.40k  012295  Progress: 50.83%  Words/thread/sec: 411.04k  91%  Words/thread/sec: 411.43k  : 0.012123  Progress: 51.52%  Words/thread/sec: 411.50k  read/sec: 411.47k  rogress: 52.73%  Words/thread/sec: 411.54k  1671  Progress: 53.33%  Words/thread/sec: 411.61k  sec: 411.58k  ess: 54.14%  Words/thread/sec: 411.57k  : 0.011320  Progress: 54.73%  Words/thread/sec: 411.89k  1  Progress: 55.21%  Words/thread/sec: 412.11k  412.01k  ress: 56.24%  Words/thread/sec: 412.00k  .74%  Words/thread/sec: 412.19k    Words/thread/sec: 412.14k  0566  Progress: 57.75%  Words/thread/sec: 412.50k  k  0.010470  Progress: 58.13%  Words/thread/sec: 412.11k  412.36k  59.15%  Words/thread/sec: 412.45k  75%  Words/thread/sec: 412.35k  32%  Words/thread/sec: 412.42k  9k  c: 412.48k  : 61.72%  Words/thread/sec: 412.38k  ds/thread/sec: 412.49k  16  Progress: 63.55%  Words/thread/sec: 412.51k  pha: 0.008994  Progress: 64.05%  Words/thread/sec: 412.74k  hread/sec: 412.60k  Progress: 64.97%  Words/thread/sec: 412.43k  lpha: 0.008610  Progress: 65.57%  Words/thread/sec: 412.66k  : 412.78k  lpha: 0.008367  Progress: 66.56%  Words/thread/sec: 412.67k  k  a: 0.008160  Progress: 67.37%  Words/thread/sec: 412.87k    Words/thread/sec: 412.81k  68  Progress: 68.14%  Words/thread/sec: 412.77k  412.67k  read/sec: 412.89k  s: 69.58%  Words/thread/sec: 412.94k  lpha: 0.007503  Progress: 70.00%  Words/thread/sec: 412.86k  %  Words/thread/sec: 412.84k  ss: 70.84%  Words/thread/sec: 412.57k  2  Progress: 71.04%  Words/thread/sec: 412.72k   412.68k  72.25%  Words/thread/sec: 412.76k  pha: 0.006786  Progress: 72.87%  Words/thread/sec: 412.74k  /thread/sec: 412.90k  502  Progress: 74.01%  Words/thread/sec: 412.96k   0.006429  Progress: 74.30%  Words/thread/sec: 413.20k  ead/sec: 413.03k  ogress: 75.50%  Words/thread/sec: 413.05k  18k  %  Words/thread/sec: 413.14k  0.005671  Progress: 77.33%  Words/thread/sec: 413.24k    413.24k  78.34%  Words/thread/sec: 413.18k  pha: 0.005262  Progress: 78.97%  Words/thread/sec: 413.28k  /thread/sec: 413.22k  13.36k  a: 0.004824  Progress: 80.72%  Words/thread/sec: 413.29k  ead/sec: 413.25k  s/thread/sec: 413.31k  lpha: 0.004319  Progress: 82.74%  Words/thread/sec: 413.32k  : 83.25%  Words/thread/sec: 413.41k  lpha: 0.004066  Progress: 83.75%  Words/thread/sec: 413.48k  s: 84.07%  Words/thread/sec: 413.40k  /sec: 413.53k   84.52%  Words/thread/sec: 413.63k    Words/thread/sec: 413.56k  read/sec: 413.46k  ad/sec: 413.57k   86.64%  Words/thread/sec: 413.40k  pha: 0.003229  Progress: 87.10%  Words/thread/sec: 413.45k  rogress: 87.76%  Words/thread/sec: 413.52k  .46k  8%  Words/thread/sec: 413.45k  /sec: 413.50k   413.44k  : 0.002355  Progress: 90.59%  Words/thread/sec: 413.47k  02254  Progress: 91.00%  Words/thread/sec: 413.57k  .46k  1%  Words/thread/sec: 413.51k  1  Progress: 92.41%  Words/thread/sec: 413.38k  : 92.86%  Words/thread/sec: 413.45k  Words/thread/sec: 413.53k  ess: 93.87%  Words/thread/sec: 413.52k  9k  ha: 0.001325  Progress: 94.71%  Words/thread/sec: 413.53k  .001248  Progress: 95.02%  Words/thread/sec: 413.57k  95.45%  Words/thread/sec: 413.48k  pha: 0.001003  Progress: 96.00%  Words/thread/sec: 413.56k  ords/thread/sec: 413.53k  d/sec: 413.56k  7.33%  Words/thread/sec: 413.63k  k  .000421  Progress: 98.33%  Words/thread/sec: 413.58k  s: 98.81%  Words/thread/sec: 413.69k  Progress: 99.32%  Words/thread/sec: 413.61k  read/sec: 413.93k  "
     ]
    }
   ],
   "source": [
    "word2vec.word2clusters('data/text8', 'data/text8-clusters.txt', 100, verbose=True)"
   ]
  },
  {
   "cell_type": "code",
   "execution_count": 10,
   "id": "78b5395d",
   "metadata": {},
   "outputs": [
    {
     "data": {
      "text/plain": [
       "[('moscow', 0.2710511881627468),\n",
       " ('riga', 0.26302489838691867),\n",
       " ('helsinki', 0.2626570512375743),\n",
       " ('brussels', 0.2515380623294995),\n",
       " ('munich', 0.24926747724740034),\n",
       " ('hamburg', 0.2466402106279946),\n",
       " ('istanbul', 0.24404044874121664),\n",
       " ('transylvania', 0.24347623956418504),\n",
       " ('lisbon', 0.24291780914934302),\n",
       " ('barcelona', 0.24190106361973301)]"
      ]
     },
     "execution_count": 10,
     "metadata": {},
     "output_type": "execute_result"
    }
   ],
   "source": [
    "model = word2vec.load('data/text8.bin')\n",
    "indexes, metrics = model.analogy(pos=[\"beijing\", \"russia\"], neg=[\"china\"])\n",
    "model.generate_response(indexes, metrics).tolist()"
   ]
  }
 ],
 "metadata": {
  "kernelspec": {
   "display_name": "base",
   "language": "python",
   "name": "python3"
  },
  "language_info": {
   "codemirror_mode": {
    "name": "ipython",
    "version": 3
   },
   "file_extension": ".py",
   "mimetype": "text/x-python",
   "name": "python",
   "nbconvert_exporter": "python",
   "pygments_lexer": "ipython3",
   "version": "3.9.7"
  },
  "vscode": {
   "interpreter": {
    "hash": "528ef8bef0bea82cd0ba4f022aea96994542db39a47a3a8c787d7c0de1b2affe"
   }
  }
 },
 "nbformat": 4,
 "nbformat_minor": 5
}
